{
 "cells": [
  {
   "cell_type": "markdown",
   "id": "a9d64a80",
   "metadata": {},
   "source": [
    "\n",
    "# Introduction to Data Science\n",
    "\n",
    "This notebook provides a beginner-friendly introduction to **Data Science**.  \n",
    "We will cover the basics, including:\n",
    "- What Data Science is\n",
    "- Types of Data Science tasks\n",
    "- Prerequisites (skills & tools)\n",
    "- Data Science workflow\n",
    "- Basic hands-on examples\n",
    "\n",
    "By the end, you’ll understand the foundations and be ready to dive deeper into real projects.\n"
   ]
  },
  {
   "cell_type": "markdown",
   "id": "52a55366",
   "metadata": {},
   "source": [
    "\n",
    "## What is Data Science?\n",
    "\n",
    "Data Science is the practice of **extracting insights and knowledge from data**.  \n",
    "It is an interdisciplinary field combining:\n",
    "- **Mathematics & Statistics** – to analyze and interpret data\n",
    "- **Programming** – to process, clean, and model data\n",
    "- **Domain Knowledge** – to apply insights to real-world problems\n",
    "\n",
    "> \"Data Science is about turning raw data into meaningful action.\"\n"
   ]
  },
  {
   "cell_type": "markdown",
   "id": "ba2a2b74",
   "metadata": {},
   "source": [
    "\n",
    "## Types of Data Science\n",
    "\n",
    "Data Science tasks can be broadly classified into:\n",
    "\n",
    "1. **Descriptive Analytics**  \n",
    "   - Understanding what happened in the past  \n",
    "   - Example: Sales reports, dashboards  \n",
    "\n",
    "2. **Diagnostic Analytics**  \n",
    "   - Explaining why something happened  \n",
    "   - Example: Analyzing reasons for a drop in sales  \n",
    "\n",
    "3. **Predictive Analytics**  \n",
    "   - Forecasting future outcomes using data and models  \n",
    "   - Example: Predicting customer churn  \n",
    "\n",
    "4. **Prescriptive Analytics**  \n",
    "   - Recommending actions based on predictions  \n",
    "   - Example: Recommender systems (Netflix, Amazon)  \n",
    "\n",
    "5. **Cognitive Analytics / AI**  \n",
    "   - Mimicking human thought processes (e.g., NLP, Computer Vision)  \n"
   ]
  },
  {
   "cell_type": "markdown",
   "id": "0ceb31d6",
   "metadata": {},
   "source": [
    "\n",
    "## Prerequisites for Data Science\n",
    "\n",
    "To become a Data Scientist, you need skills in:\n",
    "\n",
    "1. **Mathematics & Statistics**\n",
    "   - Probability, distributions, hypothesis testing\n",
    "   - Linear algebra & calculus (for ML)\n",
    "\n",
    "2. **Programming**\n",
    "   - Python (most popular)\n",
    "   - R (statistical computing)\n",
    "   - SQL (data querying)\n",
    "\n",
    "3. **Tools & Libraries**\n",
    "   - Data Manipulation: Pandas, Numpy\n",
    "   - Visualization: Matplotlib, Seaborn, Power BI, Tableau\n",
    "   - Machine Learning: Scikit-learn, TensorFlow, PyTorch\n",
    "\n",
    "4. **Soft Skills**\n",
    "   - Communication & storytelling\n",
    "   - Problem-solving & critical thinking\n",
    "   - Business/domain understanding\n"
   ]
  },
  {
   "cell_type": "markdown",
   "id": "fb6eba7d",
   "metadata": {},
   "source": [
    "\n",
    "## Data Science Workflow\n",
    "\n",
    "Typical steps in a Data Science project:\n",
    "\n",
    "1. **Problem Definition**\n",
    "   - What problem are we solving?\n",
    "\n",
    "2. **Data Collection**\n",
    "   - Gathering structured & unstructured data\n",
    "\n",
    "3. **Data Cleaning & Preparation**\n",
    "   - Handling missing values, duplicates, formatting\n",
    "\n",
    "4. **Exploratory Data Analysis (EDA)**\n",
    "   - Understanding trends, distributions, patterns\n",
    "\n",
    "5. **Modeling**\n",
    "   - Applying statistical or machine learning models\n",
    "\n",
    "6. **Evaluation**\n",
    "   - Measuring model performance\n",
    "\n",
    "7. **Deployment**\n",
    "   - Putting models into production\n",
    "\n",
    "8. **Communication**\n",
    "   - Presenting insights with reports & dashboards\n"
   ]
  },
  {
   "cell_type": "code",
   "execution_count": null,
   "id": "0225a89b",
   "metadata": {},
   "outputs": [],
   "source": [
    "\n",
    "# Import key libraries\n",
    "import numpy as np\n",
    "import pandas as pd\n",
    "import matplotlib.pyplot as plt\n",
    "import seaborn as sns\n",
    "\n",
    "# Display versions\n",
    "print(\"NumPy:\", np.__version__)\n",
    "print(\"Pandas:\", pd.__version__)\n"
   ]
  },
  {
   "cell_type": "markdown",
   "id": "2b1d12c1",
   "metadata": {},
   "source": [
    "## Basic Hands-On Examples"
   ]
  },
  {
   "cell_type": "code",
   "execution_count": null,
   "id": "00a24494",
   "metadata": {},
   "outputs": [],
   "source": [
    "\n",
    "# Create a simple DataFrame\n",
    "data = {\n",
    "    \"Name\": [\"Alice\", \"Bob\", \"Charlie\", \"Diana\"],\n",
    "    \"Age\": [25, 30, 35, 40],\n",
    "    \"Salary\": [50000, 60000, 75000, 80000]\n",
    "}\n",
    "\n",
    "df = pd.DataFrame(data)\n",
    "df\n"
   ]
  },
  {
   "cell_type": "code",
   "execution_count": null,
   "id": "b75533a6",
   "metadata": {},
   "outputs": [],
   "source": [
    "\n",
    "# Summary statistics\n",
    "df.describe()\n",
    "\n",
    "# Average salary\n",
    "df[\"Salary\"].mean()\n"
   ]
  },
  {
   "cell_type": "code",
   "execution_count": null,
   "id": "ded4e0aa",
   "metadata": {},
   "outputs": [],
   "source": [
    "\n",
    "# Plot age vs salary\n",
    "sns.barplot(x=\"Name\", y=\"Salary\", data=df)\n",
    "plt.title(\"Salary Distribution\")\n",
    "plt.show()\n"
   ]
  },
  {
   "cell_type": "markdown",
   "id": "05b8523c",
   "metadata": {},
   "source": [
    "\n",
    "## Career Paths in Data Science\n",
    "\n",
    "Roles you may encounter:\n",
    "- **Data Analyst** → Focus on analyzing and reporting\n",
    "- **Data Scientist** → Build models and derive insights\n",
    "- **Machine Learning Engineer** → Deploy ML models\n",
    "- **Data Engineer** → Build pipelines and data infrastructure\n",
    "- **Business Intelligence Analyst** → Create dashboards and support decision-making\n"
   ]
  },
  {
   "cell_type": "markdown",
   "id": "31eab170",
   "metadata": {},
   "source": [
    "\n",
    "# Conclusion\n",
    "\n",
    "In this introduction, you learned:\n",
    "- What Data Science is\n",
    "- Different types of Data Science tasks\n",
    "- Prerequisites and required skills\n",
    "- The Data Science workflow\n",
    "- Basic hands-on coding examples\n",
    "\n",
    "Next steps:\n",
    "- Practice with real datasets\n",
    "- Deepen your knowledge in Statistics & Machine Learning\n",
    "- Explore advanced tools and frameworks\n"
   ]
  }
 ],
 "metadata": {},
 "nbformat": 4,
 "nbformat_minor": 5
}
